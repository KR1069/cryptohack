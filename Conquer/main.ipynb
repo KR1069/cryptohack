{
 "cells": [
  {
   "cell_type": "code",
   "execution_count": 2,
   "metadata": {},
   "outputs": [],
   "source": [
    "key = 364765105385226228888267246885507128079813677318333502635464281930855331056070734926401965510936356014326979260977790597194503012948\n",
    "cipher = 92499232109251162138344223189844914420326826743556872876639400853892198641955596900058352490329330224967987380962193017044830636379\n"
   ]
  },
  {
   "cell_type": "code",
   "execution_count": 6,
   "metadata": {},
   "outputs": [],
   "source": [
    "from pwnlib.util.fiddling import xor\n",
    "from Crypto.Util.number import long_to_bytes\n",
    "import random"
   ]
  },
  {
   "cell_type": "code",
   "execution_count": 7,
   "metadata": {},
   "outputs": [
    {
     "name": "stdout",
     "output_type": "stream",
     "text": [
      "440\n",
      "438\n"
     ]
    }
   ],
   "source": [
    "print(len(bin(key)))\n",
    "print(len(bin(cipher)))"
   ]
  },
  {
   "attachments": {},
   "cell_type": "markdown",
   "metadata": {},
   "source": [
    "for i in range(100):\n",
    "    n = random.getrandbits(3)\n",
    "    print(n)\n",
    "\n",
    "    \n",
    "    print(bin(n))"
   ]
  },
  {
   "attachments": {},
   "cell_type": "markdown",
   "metadata": {},
   "source": [
    "(bits << 1) bitは2進数\n",
    "\n",
    "bitsを1bit左シフト一番右には0\n",
    "\n",
    "f(1110) = 11100\n",
    "\n",
    "2^length - 1\n",
    "\n",
    "length=3の時\n",
    "\n",
    "\n",
    "2^3-1 = 7\n",
    "\n",
    "\n",
    "bin(7) = 111\n",
    "\n",
    "\n",
    "andをとるので\n",
    "\n",
    "\n",
    "lengthbitまでのbitsの１が立っているところが分かるようになる。lengthbit以降はかならず0\n"
   ]
  },
  {
   "attachments": {},
   "cell_type": "markdown",
   "metadata": {},
   "source": [
    "でlength長さがlength長でbit\n",
    "length bit目が0でそれ以外は1のbitを返す\n",
    "(bits >> (length - 1))\n",
    "bitsのlegth bitsめ以降のbitの値のみ返す。\n"
   ]
  },
  {
   "attachments": {},
   "cell_type": "markdown",
   "metadata": {},
   "source": [
    "| (bits >> (length - 1))\n",
    "bitsのlength-1だけの要素を取り出す。そしてorをとる。\n",
    "bitsのl(bits)~lengthbit目の値を取り出す。"
   ]
  },
  {
   "cell_type": "code",
   "execution_count": 17,
   "metadata": {},
   "outputs": [
    {
     "name": "stdout",
     "output_type": "stream",
     "text": [
      "92499232109251162138344223189844914420326826743556872876639400853892198641955596900058352490329330224967987380962193017044830636379\n",
      "364765105385226228888267246885507128079813677318333502635464281930855331056070734926401965510936356014326979260977790597194503012948\n"
     ]
    }
   ],
   "source": [
    "C32= cipher\n",
    "key32= key\n",
    "print(C32)\n",
    "print(key32)"
   ]
  },
  {
   "cell_type": "code",
   "execution_count": 18,
   "metadata": {},
   "outputs": [
    {
     "ename": "ValueError",
     "evalue": "pack(): number does not fit within word_size [0, 92499232109251162138344223189844914420326826743556872876639400853892198641955596900058352490329330224967987380962193017044830636379, 256]",
     "output_type": "error",
     "traceback": [
      "\u001b[1;31m---------------------------------------------------------------------------\u001b[0m",
      "\u001b[1;31mValueError\u001b[0m                                Traceback (most recent call last)",
      "Cell \u001b[1;32mIn[18], line 1\u001b[0m\n\u001b[1;32m----> 1\u001b[0m C31 \u001b[39m=\u001b[39m xor(C32,key32)\n",
      "File \u001b[1;32mc:\\Users\\I14e2\\Desktop\\Code\\GItHub\\cryptohack\\.venv\\lib\\site-packages\\pwnlib\\util\\fiddling.py:327\u001b[0m, in \u001b[0;36mxor\u001b[1;34m(*args, **kwargs)\u001b[0m\n\u001b[0;32m    324\u001b[0m \u001b[39mif\u001b[39;00m \u001b[39mlen\u001b[39m(args) \u001b[39m==\u001b[39m \u001b[39m0\u001b[39m:\n\u001b[0;32m    325\u001b[0m     \u001b[39mraise\u001b[39;00m \u001b[39mValueError\u001b[39;00m(\u001b[39m\"\u001b[39m\u001b[39mMust have something to xor\u001b[39m\u001b[39m\"\u001b[39m)\n\u001b[1;32m--> 327\u001b[0m strs \u001b[39m=\u001b[39m [packing\u001b[39m.\u001b[39mflat(s, word_size \u001b[39m=\u001b[39m \u001b[39m8\u001b[39m, sign \u001b[39m=\u001b[39m \u001b[39mFalse\u001b[39;00m, endianness \u001b[39m=\u001b[39m \u001b[39m'\u001b[39m\u001b[39mlittle\u001b[39m\u001b[39m'\u001b[39m) \u001b[39mfor\u001b[39;00m s \u001b[39min\u001b[39;00m args]\n\u001b[0;32m    328\u001b[0m strs \u001b[39m=\u001b[39m [\u001b[39mbytearray\u001b[39m(s) \u001b[39mfor\u001b[39;00m s \u001b[39min\u001b[39;00m strs \u001b[39mif\u001b[39;00m s]\n\u001b[0;32m    330\u001b[0m \u001b[39mif\u001b[39;00m strs \u001b[39m==\u001b[39m []:\n",
      "File \u001b[1;32mc:\\Users\\I14e2\\Desktop\\Code\\GItHub\\cryptohack\\.venv\\lib\\site-packages\\pwnlib\\util\\fiddling.py:327\u001b[0m, in \u001b[0;36m<listcomp>\u001b[1;34m(.0)\u001b[0m\n\u001b[0;32m    324\u001b[0m \u001b[39mif\u001b[39;00m \u001b[39mlen\u001b[39m(args) \u001b[39m==\u001b[39m \u001b[39m0\u001b[39m:\n\u001b[0;32m    325\u001b[0m     \u001b[39mraise\u001b[39;00m \u001b[39mValueError\u001b[39;00m(\u001b[39m\"\u001b[39m\u001b[39mMust have something to xor\u001b[39m\u001b[39m\"\u001b[39m)\n\u001b[1;32m--> 327\u001b[0m strs \u001b[39m=\u001b[39m [packing\u001b[39m.\u001b[39;49mflat(s, word_size \u001b[39m=\u001b[39;49m \u001b[39m8\u001b[39;49m, sign \u001b[39m=\u001b[39;49m \u001b[39mFalse\u001b[39;49;00m, endianness \u001b[39m=\u001b[39;49m \u001b[39m'\u001b[39;49m\u001b[39mlittle\u001b[39;49m\u001b[39m'\u001b[39;49m) \u001b[39mfor\u001b[39;00m s \u001b[39min\u001b[39;00m args]\n\u001b[0;32m    328\u001b[0m strs \u001b[39m=\u001b[39m [\u001b[39mbytearray\u001b[39m(s) \u001b[39mfor\u001b[39;00m s \u001b[39min\u001b[39;00m strs \u001b[39mif\u001b[39;00m s]\n\u001b[0;32m    330\u001b[0m \u001b[39mif\u001b[39;00m strs \u001b[39m==\u001b[39m []:\n",
      "File \u001b[1;32mc:\\Users\\I14e2\\Desktop\\Code\\GItHub\\cryptohack\\.venv\\lib\\site-packages\\pwnlib\\context\\__init__.py:1597\u001b[0m, in \u001b[0;36mLocalNoarchContext.<locals>.setter\u001b[1;34m(*a, **kw)\u001b[0m\n\u001b[0;32m   1595\u001b[0m kw\u001b[39m.\u001b[39msetdefault(\u001b[39m'\u001b[39m\u001b[39march\u001b[39m\u001b[39m'\u001b[39m, \u001b[39m'\u001b[39m\u001b[39mnone\u001b[39m\u001b[39m'\u001b[39m)\n\u001b[0;32m   1596\u001b[0m \u001b[39mwith\u001b[39;00m context\u001b[39m.\u001b[39mlocal(\u001b[39m*\u001b[39m\u001b[39m*\u001b[39m{k:kw\u001b[39m.\u001b[39mpop(k) \u001b[39mfor\u001b[39;00m k,v \u001b[39min\u001b[39;00m \u001b[39mtuple\u001b[39m(kw\u001b[39m.\u001b[39mitems()) \u001b[39mif\u001b[39;00m \u001b[39misinstance\u001b[39m(\u001b[39mgetattr\u001b[39m(ContextType, k, \u001b[39mNone\u001b[39;00m), \u001b[39mproperty\u001b[39m)}):\n\u001b[1;32m-> 1597\u001b[0m     \u001b[39mreturn\u001b[39;00m function(\u001b[39m*\u001b[39ma, \u001b[39m*\u001b[39m\u001b[39m*\u001b[39mkw)\n",
      "File \u001b[1;32mc:\\Users\\I14e2\\Desktop\\Code\\GItHub\\cryptohack\\.venv\\lib\\site-packages\\pwnlib\\util\\packing.py:775\u001b[0m, in \u001b[0;36mflat\u001b[1;34m(*args, **kwargs)\u001b[0m\n\u001b[0;32m    772\u001b[0m     \u001b[39mraise\u001b[39;00m \u001b[39mTypeError\u001b[39;00m(\u001b[39m\"\u001b[39m\u001b[39mflat() does not support argument \u001b[39m\u001b[39m%r\u001b[39;00m\u001b[39m\"\u001b[39m \u001b[39m%\u001b[39m kwargs\u001b[39m.\u001b[39mpopitem()[\u001b[39m0\u001b[39m])\n\u001b[0;32m    774\u001b[0m filler \u001b[39m=\u001b[39m iters\u001b[39m.\u001b[39mcycle(filler)\n\u001b[1;32m--> 775\u001b[0m out \u001b[39m=\u001b[39m _flat(args, preprocessor, make_packer(), filler, stacklevel \u001b[39m+\u001b[39;49m \u001b[39m2\u001b[39;49m)\n\u001b[0;32m    777\u001b[0m \u001b[39mif\u001b[39;00m length:\n\u001b[0;32m    778\u001b[0m     \u001b[39mif\u001b[39;00m \u001b[39mlen\u001b[39m(out) \u001b[39m>\u001b[39m length:\n",
      "File \u001b[1;32mc:\\Users\\I14e2\\Desktop\\Code\\GItHub\\cryptohack\\.venv\\lib\\site-packages\\pwnlib\\util\\packing.py:596\u001b[0m, in \u001b[0;36m_flat\u001b[1;34m(args, preprocessor, packer, filler, stacklevel)\u001b[0m\n\u001b[0;32m    594\u001b[0m     val \u001b[39m=\u001b[39m _need_bytes(arg, stacklevel \u001b[39m+\u001b[39m \u001b[39m1\u001b[39m)\n\u001b[0;32m    595\u001b[0m \u001b[39melif\u001b[39;00m \u001b[39misinstance\u001b[39m(arg, six\u001b[39m.\u001b[39minteger_types):\n\u001b[1;32m--> 596\u001b[0m     val \u001b[39m=\u001b[39m packer(arg)\n\u001b[0;32m    597\u001b[0m \u001b[39melif\u001b[39;00m \u001b[39misinstance\u001b[39m(arg, \u001b[39mbytearray\u001b[39m):\n\u001b[0;32m    598\u001b[0m     val \u001b[39m=\u001b[39m \u001b[39mbytes\u001b[39m(arg)\n",
      "File \u001b[1;32mc:\\Users\\I14e2\\Desktop\\Code\\GItHub\\cryptohack\\.venv\\lib\\site-packages\\pwnlib\\util\\packing.py:438\u001b[0m, in \u001b[0;36mmake_packer.<locals>.<lambda>\u001b[1;34m(number)\u001b[0m\n\u001b[0;32m    435\u001b[0m     \u001b[39mif\u001b[39;00m packer:\n\u001b[0;32m    436\u001b[0m         \u001b[39mreturn\u001b[39;00m packer\n\u001b[1;32m--> 438\u001b[0m \u001b[39mreturn\u001b[39;00m \u001b[39mlambda\u001b[39;00m number: pack(number, word_size, endianness, sign)\n",
      "File \u001b[1;32mc:\\Users\\I14e2\\Desktop\\Code\\GItHub\\cryptohack\\.venv\\lib\\site-packages\\pwnlib\\util\\packing.py:149\u001b[0m, in \u001b[0;36mpack\u001b[1;34m(number, word_size, endianness, sign, **kwargs)\u001b[0m\n\u001b[0;32m    147\u001b[0m     limit \u001b[39m=\u001b[39m \u001b[39m1\u001b[39m \u001b[39m<<\u001b[39m word_size\n\u001b[0;32m    148\u001b[0m     \u001b[39mif\u001b[39;00m \u001b[39mnot\u001b[39;00m \u001b[39m0\u001b[39m \u001b[39m<\u001b[39m\u001b[39m=\u001b[39m number \u001b[39m<\u001b[39m limit:\n\u001b[1;32m--> 149\u001b[0m         \u001b[39mraise\u001b[39;00m \u001b[39mValueError\u001b[39;00m(\u001b[39m\"\u001b[39m\u001b[39mpack(): number does not fit within word_size [\u001b[39m\u001b[39m%i\u001b[39;00m\u001b[39m, \u001b[39m\u001b[39m%r\u001b[39;00m\u001b[39m, \u001b[39m\u001b[39m%r\u001b[39;00m\u001b[39m]\u001b[39m\u001b[39m\"\u001b[39m \u001b[39m%\u001b[39m (\u001b[39m0\u001b[39m, number, limit))\n\u001b[0;32m    151\u001b[0m \u001b[39m# Normalize number and size now that we have verified them\u001b[39;00m\n\u001b[0;32m    152\u001b[0m \u001b[39m# From now on we can treat positive and negative numbers the same\u001b[39;00m\n\u001b[0;32m    153\u001b[0m number \u001b[39m=\u001b[39m number \u001b[39m&\u001b[39m ((\u001b[39m1\u001b[39m \u001b[39m<<\u001b[39m word_size) \u001b[39m-\u001b[39m \u001b[39m1\u001b[39m)\n",
      "\u001b[1;31mValueError\u001b[0m: pack(): number does not fit within word_size [0, 92499232109251162138344223189844914420326826743556872876639400853892198641955596900058352490329330224967987380962193017044830636379, 256]"
     ]
    }
   ],
   "source": [
    "C31 = xor(C32,key32)"
   ]
  },
  {
   "cell_type": "code",
   "execution_count": null,
   "metadata": {},
   "outputs": [],
   "source": [
    "from Crypto.Util.number import *\n",
    "from random import getrandbits\n",
    "from flag import flag\n",
    "\n",
    "\n",
    "def ROL(bits, N):\n",
    "    for _ in range(N):\n",
    "        bits = ((bits << 1) & (2**length - 1)) | (bits >> (length - 1))\n",
    "    return bits\n",
    "\n",
    "\n",
    "flag = bytes_to_long(flag)\n",
    "#flagを2進数にした時のbit長\n",
    "length = flag.bit_length()\n",
    "\n",
    "key = getrandbits(length)\n",
    "cipher = flag ^ key\n",
    "\n",
    "for i in range(32):\n",
    "    key = ROL(key, pow(cipher, 3, length))\n",
    "    cipher ^= key\n",
    "\n",
    "print(\"key =\", key)\n",
    "print(\"cipher =\", cipher)\n"
   ]
  }
 ],
 "metadata": {
  "kernelspec": {
   "display_name": ".venv",
   "language": "python",
   "name": "python3"
  },
  "language_info": {
   "codemirror_mode": {
    "name": "ipython",
    "version": 3
   },
   "file_extension": ".py",
   "mimetype": "text/x-python",
   "name": "python",
   "nbconvert_exporter": "python",
   "pygments_lexer": "ipython3",
   "version": "3.9.10"
  },
  "orig_nbformat": 4
 },
 "nbformat": 4,
 "nbformat_minor": 2
}
