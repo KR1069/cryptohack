{
 "cells": [
  {
   "cell_type": "code",
   "execution_count": 2,
   "metadata": {},
   "outputs": [],
   "source": [
    "key = 364765105385226228888267246885507128079813677318333502635464281930855331056070734926401965510936356014326979260977790597194503012948\n",
    "cipher = 92499232109251162138344223189844914420326826743556872876639400853892198641955596900058352490329330224967987380962193017044830636379\n"
   ]
  },
  {
   "cell_type": "code",
   "execution_count": 6,
   "metadata": {},
   "outputs": [],
   "source": [
    "from pwnlib.util.fiddling import xor\n",
    "from Crypto.Util.number import long_to_bytes\n",
    "import random"
   ]
  },
  {
   "cell_type": "code",
   "execution_count": 7,
   "metadata": {},
   "outputs": [
    {
     "name": "stdout",
     "output_type": "stream",
     "text": [
      "440\n",
      "438\n"
     ]
    }
   ],
   "source": [
    "print(len(bin(key)))\n",
    "print(len(bin(cipher)))"
   ]
  },
  {
   "attachments": {},
   "cell_type": "markdown",
   "metadata": {},
   "source": [
    "for i in range(100):\n",
    "    n = random.getrandbits(3)\n",
    "    print(n)\n",
    "\n",
    "    \n",
    "    print(bin(n))"
   ]
  },
  {
   "attachments": {},
   "cell_type": "markdown",
   "metadata": {},
   "source": [
    "(bits << 1) bitは2進数\n",
    "\n",
    "bitsを1bit左シフト一番右には0\n",
    "\n",
    "f(1110) = 11100\n",
    "\n",
    "2^length - 1\n",
    "\n",
    "length=3の時\n",
    "\n",
    "\n",
    "2^3-1 = 7\n",
    "\n",
    "\n",
    "bin(7) = 111\n",
    "\n",
    "\n",
    "andをとるので\n",
    "\n",
    "\n",
    "lengthbitまでのbitsの１が立っているところが分かるようになる。lengthbit以降はかならず0\n"
   ]
  },
  {
   "attachments": {},
   "cell_type": "markdown",
   "metadata": {},
   "source": [
    "でlength長さがlength長でbit\n",
    "length bit目が0でそれ以外は1のbitを返す\n",
    "(bits >> (length - 1))\n",
    "bitsのlegth bitsめ以降のbitの値のみ返す。\n"
   ]
  },
  {
   "attachments": {},
   "cell_type": "markdown",
   "metadata": {},
   "source": [
    "| (bits >> (length - 1))\n",
    "bitsのlength-1だけの要素を取り出す。そしてorをとる。\n",
    "bitsのl(bits)~lengthbit目の値を取り出す。"
   ]
  },
  {
   "cell_type": "code",
   "execution_count": null,
   "metadata": {},
   "outputs": [],
   "source": [
    "C32= C\n",
    "key32= key"
   ]
  },
  {
   "cell_type": "code",
   "execution_count": null,
   "metadata": {},
   "outputs": [],
   "source": [
    "C31 = xor()"
   ]
  },
  {
   "cell_type": "code",
   "execution_count": null,
   "metadata": {},
   "outputs": [],
   "source": [
    "from Crypto.Util.number import *\n",
    "from random import getrandbits\n",
    "from flag import flag\n",
    "\n",
    "\n",
    "def ROL(bits, N):\n",
    "    for _ in range(N):\n",
    "        bits = ((bits << 1) & (2**length - 1)) | (bits >> (length - 1))\n",
    "    return bits\n",
    "\n",
    "\n",
    "flag = bytes_to_long(flag)\n",
    "#flagを2進数にした時のbit長\n",
    "length = flag.bit_length()\n",
    "\n",
    "key = getrandbits(length)\n",
    "cipher = flag ^ key\n",
    "\n",
    "for i in range(32):\n",
    "    key = ROL(key, pow(cipher, 3, length))\n",
    "    cipher ^= key\n",
    "\n",
    "print(\"key =\", key)\n",
    "print(\"cipher =\", cipher)\n"
   ]
  }
 ],
 "metadata": {
  "kernelspec": {
   "display_name": ".venv",
   "language": "python",
   "name": "python3"
  },
  "language_info": {
   "codemirror_mode": {
    "name": "ipython",
    "version": 3
   },
   "file_extension": ".py",
   "mimetype": "text/x-python",
   "name": "python",
   "nbconvert_exporter": "python",
   "pygments_lexer": "ipython3",
   "version": "3.9.10"
  },
  "orig_nbformat": 4
 },
 "nbformat": 4,
 "nbformat_minor": 2
}
