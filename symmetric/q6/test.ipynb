{
 "cells": [
  {
   "cell_type": "code",
   "execution_count": 45,
   "metadata": {},
   "outputs": [
    {
     "name": "stdout",
     "output_type": "stream",
     "text": [
      "1\n"
     ]
    }
   ],
   "source": [
    "for i in range(1):\n",
    "    print(1)"
   ]
  },
  {
   "cell_type": "code",
   "execution_count": 13,
   "metadata": {},
   "outputs": [
    {
     "name": "stdout",
     "output_type": "stream",
     "text": [
      "[106, 71, 86, 108]\n"
     ]
    }
   ],
   "source": [
    "print(state[0][1:]+state[0][:1])"
   ]
  },
  {
   "cell_type": "code",
   "execution_count": 47,
   "metadata": {},
   "outputs": [
    {
     "name": "stdout",
     "output_type": "stream",
     "text": [
      "[[108, 106, 71, 86], [96, 62, 38, 72], [42, 184, 92, 209], [94, 79, 8, 54]]\n",
      "shifted_state[[108, 62, 92, 54], [96, 184, 8, 86], [42, 79, 71, 72], [94, 106, 38, 209]]\n",
      "just_swap[[108, 96, 42, 94], [62, 184, 79, 106], [92, 8, 71, 38], [54, 86, 72, 209]]\n",
      "swap_recover[[108, 106, 71, 184], [62, 96, 42, 94], [72, 92, 79, 106], [71, 209, 54, 8]]\n",
      "[[108, 62, 72, 71], [106, 96, 92, 209], [71, 42, 79, 54], [184, 94, 106, 8]]\n"
     ]
    }
   ],
   "source": [
    "import copy\n",
    "\n",
    "state = [\n",
    "    [108, 106, 71, 86],\n",
    "    [96, 62, 38, 72],\n",
    "    [42, 184, 92, 209],\n",
    "    [94, 79, 8, 54],\n",
    "]\n",
    "st2 = copy.copy(state)\n",
    "def shift_rows(s):\n",
    "    s[0][1], s[1][1], s[2][1], s[3][1] = s[1][1], s[2][1], s[3][1], s[0][1]\n",
    "    s[0][2], s[1][2], s[2][2], s[3][2] = s[2][2], s[3][2], s[0][2], s[1][2]\n",
    "    s[0][3], s[1][3], s[2][3], s[3][3] = s[3][3], s[0][3], s[1][3], s[2][3]\n",
    "    return s\n",
    "\n",
    "def shift(s):\n",
    "    for index in range(len(s)):\n",
    "        for raw in range(index):\n",
    "            s[index] = s[index][1:] + s[index][:1]\n",
    "            \n",
    "    return s\n",
    "\n",
    "def inv_shift(s):\n",
    "    swap_s = swap(s)\n",
    "    print(f\"just_swap{swap_s}\")\n",
    "    for index in range(len(s)):\n",
    "        for raw in range(index):\n",
    "            swap_s[index] = swap_s[index][len(s)-1:] + swap_s[index][:len(s)-1]\n",
    "            \n",
    "    print(f\"swap_recover{swap_s}\")\n",
    "    s = swap(swap_s)\n",
    "    return s\n",
    "\n",
    "def swap(s):\n",
    "    for i in range(len(s)):\n",
    "        for j in range(i+1,len(s)):\n",
    "            \n",
    "            s[i][j],s[j][i] = s[j][i],s[i][j]       \n",
    "    return s\n",
    "\n",
    "print(state)\n",
    "shifted = shift_rows(st2)\n",
    "print(f\"shifted_state{shifted}\")\n",
    "print(inv_shift(shifted))\n",
    "# print(swap(shift_rows(st2)))\n"
   ]
  },
  {
   "cell_type": "code",
   "execution_count": null,
   "metadata": {},
   "outputs": [],
   "source": []
  }
 ],
 "metadata": {
  "kernelspec": {
   "display_name": ".venv",
   "language": "python",
   "name": "python3"
  },
  "language_info": {
   "codemirror_mode": {
    "name": "ipython",
    "version": 3
   },
   "file_extension": ".py",
   "mimetype": "text/x-python",
   "name": "python",
   "nbconvert_exporter": "python",
   "pygments_lexer": "ipython3",
   "version": "3.10.2"
  },
  "orig_nbformat": 4
 },
 "nbformat": 4,
 "nbformat_minor": 2
}
