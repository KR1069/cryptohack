{
 "cells": [
  {
   "cell_type": "code",
   "execution_count": null,
   "metadata": {},
   "outputs": [],
   "source": [
    "CHARACTER_SET = 'abcdefghijklmnopqrstuvwxyz0123456789_{}'\n",
    "FLAG_LENGTH = 16 * 2\n",
    "\n",
    "def hack():\n",
    "  flag = ''\n",
    "  for _ in range(FLAG_LENGTH):\n",
    "    for char in CHARACTER_SET:\n",
    "        candidate = flag + char\n",
    "        plaintext = ' ' * (FLAG_LENGTH - len(candidate)) + candidate + ' ' * (FLAG_LENGTH - len(candidate))\n",
    "        # print(len(plaintext),plaintext)\n",
    "        break\n",
    "\n",
    "text = ' '*2\n",
    "\n",
    "print(f'>>>{text.encode()}<<<')\n",
    "print(ord(' '))"
   ]
  },
  {
   "cell_type": "code",
   "execution_count": null,
   "metadata": {},
   "outputs": [],
   "source": [
    "str = \"8976\"\n",
    "print(hex(str),str)"
   ]
  }
 ],
 "metadata": {
  "kernelspec": {
   "display_name": "venv",
   "language": "python",
   "name": "venv"
  },
  "language_info": {
   "codemirror_mode": {
    "name": "ipython",
    "version": 3
   },
   "file_extension": ".py",
   "mimetype": "text/x-python",
   "name": "python",
   "nbconvert_exporter": "python",
   "pygments_lexer": "ipython3",
   "version": "3.11.1"
  },
  "orig_nbformat": 4
 },
 "nbformat": 4,
 "nbformat_minor": 2
}
